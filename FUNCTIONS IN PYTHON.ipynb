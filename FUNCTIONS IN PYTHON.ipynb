{
 "cells": [
  {
   "cell_type": "markdown",
   "id": "f4fe2973",
   "metadata": {},
   "source": [
    "In Python, a function is a named sequence of statements that belong together. \n",
    "Functions allow code to be re-used so that complex programs can be built up out of simpler parts. \n",
    "Python has inbuilt functions, like `print()`, `max()` etc.\n",
    "We can also create our own functions by using the `def` keyword. "
   ]
  },
  {
   "cell_type": "markdown",
   "id": "2e37d099",
   "metadata": {},
   "source": [
    "This is the basic syntax of a function\n",
    "\n",
    "```python\n",
    "def funcname(arg1, arg2,... argN):\n",
    "    ''' Document String'''\n",
    "    statements\n",
    "    return <value>```"
   ]
  },
  {
   "cell_type": "code",
   "execution_count": 6,
   "id": "f7f09ee6",
   "metadata": {},
   "outputs": [],
   "source": [
    "#Function to determine sum of numbers(sumnos)\n",
    "\n",
    "def sumnos(a,b,c,d):\n",
    "    \"\"\"This function is used to find the sum of numbers\"\"\"\n",
    "    total = (a+b+c+d)#The function has been given four elements(it cannot add or less than 4 args)\n",
    "    return total"
   ]
  },
  {
   "cell_type": "code",
   "execution_count": 7,
   "id": "daaf6ba5",
   "metadata": {},
   "outputs": [
    {
     "data": {
      "text/plain": [
       "22"
      ]
     },
     "execution_count": 7,
     "metadata": {},
     "output_type": "execute_result"
    }
   ],
   "source": [
    "sumnos(4,5,6,7)"
   ]
  },
  {
   "cell_type": "code",
   "execution_count": 8,
   "id": "5cac438c",
   "metadata": {},
   "outputs": [
    {
     "ename": "TypeError",
     "evalue": "sumnos() missing 2 required positional arguments: 'c' and 'd'",
     "output_type": "error",
     "traceback": [
      "\u001b[1;31m---------------------------------------------------------------------------\u001b[0m",
      "\u001b[1;31mTypeError\u001b[0m                                 Traceback (most recent call last)",
      "\u001b[1;32m~\\AppData\\Local\\Temp\\ipykernel_12296\\3385892565.py\u001b[0m in \u001b[0;36m<module>\u001b[1;34m\u001b[0m\n\u001b[0;32m      1\u001b[0m \u001b[1;31m#Example of error if given less than 4 args\u001b[0m\u001b[1;33m\u001b[0m\u001b[1;33m\u001b[0m\u001b[0m\n\u001b[1;32m----> 2\u001b[1;33m \u001b[0msumnos\u001b[0m\u001b[1;33m(\u001b[0m\u001b[1;36m6\u001b[0m\u001b[1;33m,\u001b[0m\u001b[1;36m7\u001b[0m\u001b[1;33m)\u001b[0m\u001b[1;33m\u001b[0m\u001b[1;33m\u001b[0m\u001b[0m\n\u001b[0m",
      "\u001b[1;31mTypeError\u001b[0m: sumnos() missing 2 required positional arguments: 'c' and 'd'"
     ]
    }
   ],
   "source": [
    "#Example of error if given less than 4 args\n",
    "sumnos(6,7)"
   ]
  },
  {
   "cell_type": "code",
   "execution_count": 11,
   "id": "0b59c17c",
   "metadata": {},
   "outputs": [],
   "source": [
    "#Function for identifying the age of clients called John\n",
    "\n",
    "def names():\n",
    "    \"\"\"This function is for identifying the age of all clients called John\"\"\"\n",
    "    firstname=input(\"Enter your first name: \")\n",
    "    secondname=input(\"Enter your second name: \")\n",
    "    if secondname=='John':\n",
    "        print('We are looking for you sir')\n",
    "        choice=input('Enter your age: ')\n",
    "    else:\n",
    "        print('Thank you for using our services')\n",
    "    return firstname,secondname"
   ]
  },
  {
   "cell_type": "code",
   "execution_count": 12,
   "id": "799d0c27",
   "metadata": {},
   "outputs": [
    {
     "name": "stdout",
     "output_type": "stream",
     "text": [
      "Enter your first name: Kabajo\n",
      "Enter your second name: Micheal\n",
      "Thank you for using our services\n"
     ]
    },
    {
     "data": {
      "text/plain": [
       "('Kabajo', 'Micheal')"
      ]
     },
     "execution_count": 12,
     "metadata": {},
     "output_type": "execute_result"
    }
   ],
   "source": [
    "names()#Example where second name is not John"
   ]
  },
  {
   "cell_type": "code",
   "execution_count": 13,
   "id": "e7437e3b",
   "metadata": {},
   "outputs": [
    {
     "name": "stdout",
     "output_type": "stream",
     "text": [
      "Enter your first name: Kabuka\n",
      "Enter your second name: John\n",
      "We are looking for you sir\n",
      "Enter your age: 34\n"
     ]
    },
    {
     "data": {
      "text/plain": [
       "('Kabuka', 'John')"
      ]
     },
     "execution_count": 13,
     "metadata": {},
     "output_type": "execute_result"
    }
   ],
   "source": [
    "names()#example where second name is John\n"
   ]
  },
  {
   "cell_type": "code",
   "execution_count": 10,
   "id": "9c6ea141",
   "metadata": {},
   "outputs": [],
   "source": [
    "#Function that tells customers of my restaurant the price of snacks availabe on each day\n",
    "\n",
    "def snack_price():\n",
    "    doghnut=4000\n",
    "    samosa=2000\n",
    "    burger=10000\n",
    "    submarine=20000\n",
    "    kebab=5000\n",
    "    choice= input(\"Enter 'm' for Monday,'t' for tuesday,'w' for wednesday: \")\n",
    "    if choice=='m':\n",
    "        choice=input(\"Enter 'd' for doghnut,'s' for submarine: \")\n",
    "        if choice=='d':\n",
    "            print(\"Today's price is:%d\" % doghnut)\n",
    "        #elif():\n",
    "            #print(\"We only have submarines left and their price today is:%d\" % submarine)\n",
    "        else:\n",
    "            print(\"We only have submarines left and their price today is:%d\" % submarine)\n",
    "            print(\"Mondays are for submarines and doghnuts\")\n",
    "            choice=input(\"Enter 'd' for doghnut,'s' for submarine: \")\n",
    "    if choice=='t':\n",
    "        choice=input(\"Enter 'sa' for samosa,'b' for burger: \")\n",
    "        if choice=='sa':\n",
    "            print(\"Samosa price is:%d\" % samosa)\n",
    "        #elif():\n",
    "            #print(\"The other option is burgers and their price today is: %d\" % burger)\n",
    "        else:\n",
    "            print(\"The other option is burgers and their price today is: %d\" % burger)\n",
    "            print(\"Tuesday is for burgers and samosas\")\n",
    "            choice=input(\"Enter 'sa' for samosa,'b' for burger: \")\n",
    "            \n",
    "    if choice=='w':\n",
    "        choice=input(\"Enter 'k' for kebab: \")\n",
    "        if choice=='k':\n",
    "            print(\"The price of kebab today is:%d\" % kebab)\n",
    "        else:\n",
    "            print(\"We have no other snack today\")\n",
    "            choice=input(\"Enter 'k' for kebab: \")\n",
    "    if choice not in('m','t','w'):\n",
    "        print(\"We cant serve you,.Try again\")\n",
    "   \n",
    "\n",
    "        \n",
    "        \n",
    "            "
   ]
  },
  {
   "cell_type": "code",
   "execution_count": 24,
   "id": "03cb5592",
   "metadata": {},
   "outputs": [
    {
     "name": "stdout",
     "output_type": "stream",
     "text": [
      "Enter 'm' for Monday,'t' for tuesday,'w' for wednesday: M\n",
      "We cant serve you,try again\n"
     ]
    }
   ],
   "source": [
    "snack_price()"
   ]
  },
  {
   "cell_type": "code",
   "execution_count": 31,
   "id": "f1096d97",
   "metadata": {},
   "outputs": [
    {
     "name": "stdout",
     "output_type": "stream",
     "text": [
      "Enter 'm' for Monday,'t' for tuesday,'w' for wednesday: m\n",
      "Enter 'd' for doghnut,'s' for submarine: d\n",
      "Today's price is:4000\n",
      "We cant serve you,try again\n"
     ]
    }
   ],
   "source": [
    "snack_price()"
   ]
  },
  {
   "cell_type": "code",
   "execution_count": null,
   "id": "43c68b4d",
   "metadata": {},
   "outputs": [
    {
     "name": "stdout",
     "output_type": "stream",
     "text": [
      "Enter 'm' for Monday,'t' for tuesday,'w' for wednesday: m\n",
      "Enter 'd' for doghnut,'s' for submarine: s\n",
      "We only have submarines left and their price today is:20000\n",
      "Mondays are for submarines and doghnuts\n"
     ]
    }
   ],
   "source": [
    "snack_price()"
   ]
  },
  {
   "cell_type": "code",
   "execution_count": 8,
   "id": "466871eb",
   "metadata": {},
   "outputs": [
    {
     "name": "stdout",
     "output_type": "stream",
     "text": [
      "Enter 'm' for Monday,'t' for tuesday,'w' for wednesday: m\n",
      "Enter 'd' for doghnut,'s' for submarine: s\n",
      "We only have submarines left and their price today is:20000\n",
      "Mondays are for submarines and doghnuts\n",
      "Enter 'd' for doghnut,'s' for submarine: d\n"
     ]
    }
   ],
   "source": [
    "snack_price()"
   ]
  },
  {
   "cell_type": "code",
   "execution_count": 9,
   "id": "dd5f5284",
   "metadata": {},
   "outputs": [
    {
     "name": "stdout",
     "output_type": "stream",
     "text": [
      "Enter 'm' for Monday,'t' for tuesday,'w' for wednesday: t\n",
      "Enter 'sa' for samosa,'b' for burger: b\n",
      "Tuesday is for burgers and samosas\n",
      "Enter 'sa' for samosa,'b' for burger: sa\n"
     ]
    }
   ],
   "source": [
    "snack_price()"
   ]
  },
  {
   "cell_type": "code",
   "execution_count": 10,
   "id": "29b3c4a6",
   "metadata": {},
   "outputs": [
    {
     "name": "stdout",
     "output_type": "stream",
     "text": [
      "Enter 'm' for Monday,'t' for tuesday,'w' for wednesday: t\n",
      "Enter 'sa' for samosa,'b' for burger: sa\n",
      "Samosa price is:2000\n"
     ]
    }
   ],
   "source": [
    "snack_price()"
   ]
  },
  {
   "cell_type": "code",
   "execution_count": 2,
   "id": "b1df6e52",
   "metadata": {},
   "outputs": [
    {
     "name": "stdout",
     "output_type": "stream",
     "text": [
      "Enter 'm' for Monday,'t' for tuesday,'w' for wednesday: t\n",
      "Enter 'sa' for samosa,'b' for burger: b\n",
      "The other option is burgers and their price today is: 10000\n",
      "Tuesday is for burgers and samosas\n",
      "Enter 'sa' for samosa,'b' for burger: sa\n"
     ]
    }
   ],
   "source": [
    "snack_price()"
   ]
  },
  {
   "cell_type": "code",
   "execution_count": 3,
   "id": "53776b04",
   "metadata": {},
   "outputs": [
    {
     "name": "stdout",
     "output_type": "stream",
     "text": [
      "Enter 'm' for Monday,'t' for tuesday,'w' for wednesday: w\n",
      "Enter 'k' for kebab: b\n",
      "We have no other snack today\n",
      "Enter 'k' for kebab: k\n"
     ]
    }
   ],
   "source": [
    "snack_price()"
   ]
  },
  {
   "cell_type": "code",
   "execution_count": 5,
   "id": "3d002c7c",
   "metadata": {},
   "outputs": [
    {
     "name": "stdout",
     "output_type": "stream",
     "text": [
      "Enter 'm' for Monday,'t' for tuesday,'w' for wednesday: w\n",
      "Enter 'k' for kebab: k\n",
      "The price of kebab today is:5000\n",
      "We cant serve you,try again\n"
     ]
    }
   ],
   "source": [
    "snack_price()"
   ]
  },
  {
   "cell_type": "code",
   "execution_count": 6,
   "id": "f601657c",
   "metadata": {},
   "outputs": [
    {
     "name": "stdout",
     "output_type": "stream",
     "text": [
      "Enter 'm' for Monday,'t' for tuesday,'w' for wednesday: t\n",
      "Enter 'sa' for samosa,'b' for burger: sa\n",
      "Samosa price is:2000\n",
      "We cant serve you,try again\n"
     ]
    }
   ],
   "source": [
    "snack_price()"
   ]
  },
  {
   "cell_type": "code",
   "execution_count": 8,
   "id": "69ad6a5f",
   "metadata": {},
   "outputs": [
    {
     "name": "stdout",
     "output_type": "stream",
     "text": [
      "Enter 'm' for Monday,'t' for tuesday,'w' for wednesday: t\n",
      "Enter 'sa' for samosa,'b' for burger: sa\n",
      "Samosa price is:2000\n",
      "We cant serve you,try again\n"
     ]
    }
   ],
   "source": [
    "snack_price()"
   ]
  },
  {
   "cell_type": "code",
   "execution_count": 11,
   "id": "658483e7",
   "metadata": {},
   "outputs": [
    {
     "name": "stdout",
     "output_type": "stream",
     "text": [
      "Enter 'm' for Monday,'t' for tuesday,'w' for wednesday: t\n",
      "Enter 'sa' for samosa,'b' for burger: b\n",
      "The other option is burgers and their price today is: 10000\n",
      "Tuesday is for burgers and samosas\n",
      "Enter 'sa' for samosa,'b' for burger: sa\n",
      "We cant serve you,.Try again\n"
     ]
    }
   ],
   "source": [
    "snack_price()"
   ]
  },
  {
   "cell_type": "code",
   "execution_count": 12,
   "id": "c0be3fcb",
   "metadata": {},
   "outputs": [
    {
     "name": "stdout",
     "output_type": "stream",
     "text": [
      "Enter 'm' for Monday,'t' for tuesday,'w' for wednesday: m\n",
      "Enter 'd' for doghnut,'s' for submarine: d\n",
      "Today's price is:4000\n",
      "We cant serve you,.Try again\n"
     ]
    }
   ],
   "source": [
    "snack_price()"
   ]
  },
  {
   "cell_type": "code",
   "execution_count": null,
   "id": "764a6869",
   "metadata": {},
   "outputs": [],
   "source": []
  }
 ],
 "metadata": {
  "kernelspec": {
   "display_name": "Python 3 (ipykernel)",
   "language": "python",
   "name": "python3"
  },
  "language_info": {
   "codemirror_mode": {
    "name": "ipython",
    "version": 3
   },
   "file_extension": ".py",
   "mimetype": "text/x-python",
   "name": "python",
   "nbconvert_exporter": "python",
   "pygments_lexer": "ipython3",
   "version": "3.9.13"
  }
 },
 "nbformat": 4,
 "nbformat_minor": 5
}
